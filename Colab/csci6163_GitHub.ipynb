{
  "nbformat": 4,
  "nbformat_minor": 0,
  "metadata": {
    "colab": {
      "provenance": [],
      "authorship_tag": "ABX9TyPP4iYrB/gpTBI67KN/W2Px",
      "include_colab_link": true
    },
    "kernelspec": {
      "name": "python3",
      "display_name": "Python 3"
    },
    "language_info": {
      "name": "python"
    }
  },
  "cells": [
    {
      "cell_type": "markdown",
      "metadata": {
        "id": "view-in-github",
        "colab_type": "text"
      },
      "source": [
        "<a href=\"https://colab.research.google.com/github/hyan-aum/hyan_aum_pubdemo/blob/main/Colab/csci6163_GitHub.ipynb\" target=\"_parent\"><img src=\"https://colab.research.google.com/assets/colab-badge.svg\" alt=\"Open In Colab\"/></a>"
      ]
    },
    {
      "cell_type": "markdown",
      "source": [
        "How to integrate Github with Google Colab (Step by Step Guide)\n",
        "https://www.youtube.com/watch?v=WBK0LrXwthE"
      ],
      "metadata": {
        "id": "QuDhyHArruL3"
      }
    },
    {
      "cell_type": "code",
      "execution_count": 1,
      "metadata": {
        "colab": {
          "base_uri": "https://localhost:8080/"
        },
        "id": "y72P_shArkxn",
        "outputId": "fef00914-2905-4f1f-f9e7-79dfd78bac82"
      },
      "outputs": [
        {
          "output_type": "stream",
          "name": "stdout",
          "text": [
            "hello GitHub\n"
          ]
        }
      ],
      "source": [
        "print(\"Hello GitHub\")"
      ]
    }
  ]
}